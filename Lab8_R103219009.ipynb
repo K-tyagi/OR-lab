{
  "nbformat": 4,
  "nbformat_minor": 0,
  "metadata": {
    "colab": {
      "name": "Lab8_R103219009",
      "provenance": [],
      "authorship_tag": "ABX9TyMDFZvkTxuexg18LNXazYfU",
      "include_colab_link": true
    },
    "kernelspec": {
      "name": "python3",
      "display_name": "Python 3"
    },
    "language_info": {
      "name": "python"
    }
  },
  "cells": [
    {
      "cell_type": "markdown",
      "metadata": {
        "id": "view-in-github",
        "colab_type": "text"
      },
      "source": [
        "<a href=\"https://colab.research.google.com/github/K-tyagi/OR-lab/blob/main/Lab8_R103219009.ipynb\" target=\"_parent\"><img src=\"https://colab.research.google.com/assets/colab-badge.svg\" alt=\"Open In Colab\"/></a>"
      ]
    },
    {
      "cell_type": "code",
      "metadata": {
        "id": "VzKYkFZI62z_"
      },
      "source": [
        "from scipy.optimize import linprog"
      ],
      "execution_count": 1,
      "outputs": []
    },
    {
      "cell_type": "markdown",
      "metadata": {
        "id": "s669W_pA7pEY"
      },
      "source": [
        "1) Minimize Z = X¬1 + X2\n",
        "Subject to,\n",
        " X1 + X2 ≤ 1\n",
        "-3X1 + X2 ≥3\n",
        " X1 ,X2 ≥0\n"
      ]
    },
    {
      "cell_type": "code",
      "metadata": {
        "colab": {
          "base_uri": "https://localhost:8080/"
        },
        "id": "ZO576xhV7DYh",
        "outputId": "ae0a0f34-6367-429b-9c47-0e8c98fd2a1f"
      },
      "source": [
        "obj1 = [1, 1]\n",
        "lhs_ineq1 = [[ 1,  1],[3,  -1]]\n",
        "rhs_ineq1 = [1,-3]\n",
        "bnd1 = [(0, float(\"inf\")), (0, float(\"inf\"))]\n",
        "opt1 = linprog(c=obj1, A_ub=lhs_ineq1, b_ub=rhs_ineq1, bounds=bnd1, method=\"revised simplex\")\n",
        "opt1"
      ],
      "execution_count": 2,
      "outputs": [
        {
          "output_type": "execute_result",
          "data": {
            "text/plain": [
              "     con: array([], dtype=float64)\n",
              "     fun: 1.0\n",
              " message: 'The problem appears infeasible, as the phase one auxiliary problem terminated successfully with a residual of 2.0e+00, greater than the tolerance 1e-12 required for the solution to be considered feasible. Consider increasing the tolerance to be greater than 2.0e+00. If this tolerance is unnaceptably large, the problem is likely infeasible.'\n",
              "     nit: 1\n",
              "   slack: array([ 0., -2.])\n",
              "  status: 2\n",
              " success: False\n",
              "       x: array([0., 1.])"
            ]
          },
          "metadata": {},
          "execution_count": 2
        }
      ]
    },
    {
      "cell_type": "markdown",
      "metadata": {
        "id": "btcltCl27yZj"
      },
      "source": [
        "2) Maximize Z = 2X¬1 + 4X2\n",
        "Subject to,\n",
        " X1 + 2X2 ≤ 5\n",
        "X1 + X2 ≤ 4\n",
        "   X1 ,X2 ≥0\n"
      ]
    },
    {
      "cell_type": "code",
      "metadata": {
        "colab": {
          "base_uri": "https://localhost:8080/"
        },
        "id": "0OZygKis7G5B",
        "outputId": "e221ea76-6b06-45e6-b9d0-0a0b3463cfe3"
      },
      "source": [
        "obj2 = [-2, -4]\n",
        "lhs_ineq2 = [[ 1,2],[1,1]]\n",
        "rhs_ineq2 = [5,4]\n",
        "bnd2 = [(0, float(\"inf\")), (0, float(\"inf\"))]\n",
        "opt2 = linprog(c=obj2, A_ub=lhs_ineq2, b_ub=rhs_ineq2, bounds=bnd2, method=\"revised simplex\")\n",
        "opt2"
      ],
      "execution_count": 3,
      "outputs": [
        {
          "output_type": "execute_result",
          "data": {
            "text/plain": [
              "     con: array([], dtype=float64)\n",
              "     fun: -10.0\n",
              " message: 'Optimization terminated successfully.'\n",
              "     nit: 1\n",
              "   slack: array([0. , 1.5])\n",
              "  status: 0\n",
              " success: True\n",
              "       x: array([0. , 2.5])"
            ]
          },
          "metadata": {},
          "execution_count": 3
        }
      ]
    },
    {
      "cell_type": "markdown",
      "metadata": {
        "id": "PusFLnc_78F9"
      },
      "source": [
        "3) Maximize Z = 2X¬1 + X2\n",
        "Subject to,\n",
        " X1 - X2 ≤ 10\n",
        " 2X1 ≤ 40\n",
        "   X1 ,X2 ≥0\n"
      ]
    },
    {
      "cell_type": "code",
      "metadata": {
        "colab": {
          "base_uri": "https://localhost:8080/"
        },
        "id": "oOfrVgI67KqQ",
        "outputId": "814af044-be5d-4bac-c1c8-81c9f2e3d5fe"
      },
      "source": [
        "obj3 = [-2,-1]\n",
        "lhs_ineq3 = [[ 1,-1],[2,0]]\n",
        "rhs_ineq3 = [10,40]\n",
        "bnd3 = [(0, float(\"inf\")), (0, float(\"inf\"))]\n",
        "opt3 = linprog(c=obj3, A_ub=lhs_ineq3, b_ub=rhs_ineq3, bounds=bnd3, method=\"revised simplex\")\n",
        "opt3"
      ],
      "execution_count": 4,
      "outputs": [
        {
          "output_type": "execute_result",
          "data": {
            "text/plain": [
              "     con: array([], dtype=float64)\n",
              "     fun: -50.0\n",
              " message: 'The problem is unbounded, as the simplex algorithm found a basic feasible solution from which there is a direction with negative reduced cost in which all decision variables increase.'\n",
              "     nit: 2\n",
              "   slack: array([0., 0.])\n",
              "  status: 3\n",
              " success: False\n",
              "       x: array([20., 10.])"
            ]
          },
          "metadata": {},
          "execution_count": 4
        }
      ]
    },
    {
      "cell_type": "markdown",
      "metadata": {
        "id": "WrBux-9i8MyJ"
      },
      "source": [
        "4) Minimize Z = 3X¬1 + 2X2\n",
        "Subject to,\n",
        "2X1 + X2 ≤ 2\n",
        "3X1 + 4X2 ≥12\n",
        "   X1 ,X2 ≥0\n"
      ]
    },
    {
      "cell_type": "code",
      "metadata": {
        "colab": {
          "base_uri": "https://localhost:8080/"
        },
        "id": "ucQvgfJk7P1S",
        "outputId": "52224de0-9b67-4d69-c7e9-fecf0613608e"
      },
      "source": [
        "obj4 = [3,2]\n",
        "lhs_ineq4 = [[ 2,1],[-3,-4]]\n",
        "rhs_ineq4 = [2,-12]\n",
        "bnd4 = [(0, float(\"inf\")), (0, float(\"inf\"))]\n",
        "opt4 = linprog(c=obj4, A_ub=lhs_ineq4, b_ub=rhs_ineq4, bounds=bnd4, method=\"revised simplex\")\n",
        "opt4"
      ],
      "execution_count": 6,
      "outputs": [
        {
          "output_type": "execute_result",
          "data": {
            "text/plain": [
              "     con: array([], dtype=float64)\n",
              "     fun: 4.0\n",
              " message: 'The problem appears infeasible, as the phase one auxiliary problem terminated successfully with a residual of 4.0e+00, greater than the tolerance 1e-12 required for the solution to be considered feasible. Consider increasing the tolerance to be greater than 4.0e+00. If this tolerance is unnaceptably large, the problem is likely infeasible.'\n",
              "     nit: 1\n",
              "   slack: array([ 0., -4.])\n",
              "  status: 2\n",
              " success: False\n",
              "       x: array([0., 2.])"
            ]
          },
          "metadata": {},
          "execution_count": 6
        }
      ]
    }
  ]
}