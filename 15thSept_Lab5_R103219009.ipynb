{
  "nbformat": 4,
  "nbformat_minor": 0,
  "metadata": {
    "colab": {
      "name": "15thSept_Lab5_R103219009.ipynb",
      "provenance": [],
      "include_colab_link": true
    },
    "kernelspec": {
      "name": "python3",
      "display_name": "Python 3"
    },
    "language_info": {
      "name": "python"
    }
  },
  "cells": [
    {
      "cell_type": "markdown",
      "metadata": {
        "id": "view-in-github",
        "colab_type": "text"
      },
      "source": [
        "<a href=\"https://colab.research.google.com/github/K-tyagi/OR-lab/blob/main/15thSept_Lab5_R103219009.ipynb\" target=\"_parent\"><img src=\"https://colab.research.google.com/assets/colab-badge.svg\" alt=\"Open In Colab\"/></a>"
      ]
    },
    {
      "cell_type": "markdown",
      "metadata": {
        "id": "Ah0fNjJFpImW"
      },
      "source": [
        "**TITLE:   LPP using Array**"
      ]
    },
    {
      "cell_type": "code",
      "metadata": {
        "id": "IUBiFYFBZrfI"
      },
      "source": [
        "from scipy.optimize import linprog"
      ],
      "execution_count": null,
      "outputs": []
    },
    {
      "cell_type": "markdown",
      "metadata": {
        "id": "DaeBW3RYfLqn"
      },
      "source": [
        "1)\t maximize  Z = 3X1 + 2X2 + 3X3 \n",
        "Subject to,\n",
        " 2X1 + X2 + X3 = 2\n",
        "X1 + 3X2 + X3 =6\n",
        "3X1 + 4X2 + 2X3 =8\n",
        "X1 ,X2 , X3 ≥0\n"
      ]
    },
    {
      "cell_type": "code",
      "metadata": {
        "colab": {
          "base_uri": "https://localhost:8080/"
        },
        "id": "6Ap8afNsaIYC",
        "outputId": "9d611f6e-a08f-4ce5-cd52-3a4ecbf2a7fd"
      },
      "source": [
        "obj = [-3, -2, -3]\n",
        "lhs_ineq = [[ 2, 1, 1],[1, 3, 1],[3, 4, 2]]\n",
        "rhs_ineq = [2, 6, 8]\n",
        "bnd = [(0, float(\"inf\")), (0, float(\"inf\")), (0, float(\"inf\"))]\n",
        "opt = linprog(c=obj, A_eq=lhs_ineq, b_eq=rhs_ineq, bounds=bnd, method=\"revised simplex\")\n",
        "opt"
      ],
      "execution_count": null,
      "outputs": [
        {
          "output_type": "stream",
          "name": "stderr",
          "text": [
            "/usr/local/lib/python3.7/dist-packages/ipykernel_launcher.py:5: OptimizeWarning: A_eq does not appear to be of full row rank. To improve performance, check the problem formulation for redundant equality constraints.\n",
            "  \"\"\"\n"
          ]
        },
        {
          "output_type": "execute_result",
          "data": {
            "text/plain": [
              "     con: array([0., 0., 0.])\n",
              "     fun: -4.0\n",
              " message: 'Optimization terminated successfully.'\n",
              "     nit: 3\n",
              "   slack: array([], dtype=float64)\n",
              "  status: 0\n",
              " success: True\n",
              "       x: array([0., 2., 0.])"
            ]
          },
          "metadata": {},
          "execution_count": 2
        }
      ]
    },
    {
      "cell_type": "markdown",
      "metadata": {
        "id": "pxVTTSLBfPjO"
      },
      "source": [
        "2)\tminimize  Z = 3X1 - 4X2 + 3X3 \n",
        "Subject to,\n",
        " 5X1 + 6X2 + 2X3 ≤ 5\n",
        "-X1 + 3X2 +5 X3 ≥ 8\n",
        "2X1 + 5X2 - 4X3 ≤4\n",
        "X1 ,X2 , X3 ≥0\n"
      ]
    },
    {
      "cell_type": "code",
      "metadata": {
        "colab": {
          "base_uri": "https://localhost:8080/"
        },
        "id": "2T2O5MXmb0Y6",
        "outputId": "45002afd-663c-4c7f-f51e-0484cd365786"
      },
      "source": [
        "obj1 = [3, -4, 3]\n",
        "lhs_ineq1 = [[ 5, 6, 2],[1, -3, -5], [2, 5, -4]]\n",
        "rhs_ineq1 = [5, -8, 4]\n",
        "bnd1 = [(0, float(\"inf\")), (0, float(\"inf\")), (0, float(\"inf\"))]\n",
        "opt1 = linprog(c=obj1, A_ub=lhs_ineq1, b_ub=rhs_ineq1, bounds=bnd1, method=\"revised simplex\")\n",
        "opt1"
      ],
      "execution_count": null,
      "outputs": [
        {
          "output_type": "execute_result",
          "data": {
            "text/plain": [
              "     con: array([], dtype=float64)\n",
              "     fun: 2.625\n",
              " message: 'Optimization terminated successfully.'\n",
              "     nit: 2\n",
              "   slack: array([0.   , 0.   , 7.625])\n",
              "  status: 0\n",
              " success: True\n",
              "       x: array([0.   , 0.375, 1.375])"
            ]
          },
          "metadata": {},
          "execution_count": 3
        }
      ]
    },
    {
      "cell_type": "markdown",
      "metadata": {
        "id": "U9EhVps8fT1X"
      },
      "source": [
        "3)\tmaximize  Z = 2X1 + 4X2 + 4X3  -3X4\n",
        "Subject to,\n",
        " X1 + X2 + X3 = 4\n",
        "X1 + 4X2 + X4 =8\n",
        "3X1 + 4X2 + 2X3 =8\n",
        "X1 ,X2 , X3 , X4 ≥0\n"
      ]
    },
    {
      "cell_type": "code",
      "metadata": {
        "colab": {
          "base_uri": "https://localhost:8080/"
        },
        "id": "BYGqVt3ycuMu",
        "outputId": "06e0dcc4-7918-4d4e-a2ee-894efbaacf9b"
      },
      "source": [
        "obj2 = [-2, -4, -4, 3]\n",
        "lhs_ineq2 = [[ 1, 1, 1, 0],[1, 4, 0, 1],[3, 4, 2, 0]]\n",
        "rhs_ineq2 = [4, 8, 8]\n",
        "bnd2 = [(0, float(\"inf\")), (0, float(\"inf\")), (0, float(\"inf\")), (0, float(\"inf\"))]\n",
        "opt2 = linprog(c=obj2, A_eq=lhs_ineq2, b_eq=rhs_ineq2, bounds=bnd2, method=\"revised simplex\")\n",
        "opt2"
      ],
      "execution_count": null,
      "outputs": [
        {
          "output_type": "execute_result",
          "data": {
            "text/plain": [
              "     con: array([0., 0., 0.])\n",
              "     fun: 8.0\n",
              " message: 'Optimization terminated successfully.'\n",
              "     nit: 3\n",
              "   slack: array([], dtype=float64)\n",
              "  status: 0\n",
              " success: True\n",
              "       x: array([0., 0., 4., 8.])"
            ]
          },
          "metadata": {},
          "execution_count": 4
        }
      ]
    },
    {
      "cell_type": "code",
      "metadata": {
        "id": "-Pv7UPSxe1c3"
      },
      "source": [
        ""
      ],
      "execution_count": null,
      "outputs": []
    }
  ]
}