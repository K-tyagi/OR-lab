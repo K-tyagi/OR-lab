{
  "nbformat": 4,
  "nbformat_minor": 0,
  "metadata": {
    "colab": {
      "name": "25/08/21_exp2,3(Q5)_KunalTyagi_R103219009.ipynb",
      "provenance": [],
      "collapsed_sections": [],
      "authorship_tag": "ABX9TyMI9EROCBzGA9OQe0+gXgc5",
      "include_colab_link": true
    },
    "kernelspec": {
      "name": "python3",
      "display_name": "Python 3"
    },
    "language_info": {
      "name": "python"
    }
  },
  "cells": [
    {
      "cell_type": "markdown",
      "metadata": {
        "id": "view-in-github",
        "colab_type": "text"
      },
      "source": [
        "<a href=\"https://colab.research.google.com/github/K-tyagi/OR-lab/blob/main/25_08_21_exp2%2C3(Q5)_KunalTyagi_R103219009.ipynb\" target=\"_parent\"><img src=\"https://colab.research.google.com/assets/colab-badge.svg\" alt=\"Open In Colab\"/></a>"
      ]
    },
    {
      "cell_type": "markdown",
      "metadata": {
        "id": "l2Qjx8uIbdAP"
      },
      "source": [
        "Q5 Minimize Z = 20X1 + 10X2"
      ]
    },
    {
      "cell_type": "code",
      "metadata": {
        "id": "nak1fR66ZBIN"
      },
      "source": [
        "%%capture\n",
        "!pip install pulp"
      ],
      "execution_count": null,
      "outputs": []
    },
    {
      "cell_type": "code",
      "metadata": {
        "id": "N0NtwKw2ZITu"
      },
      "source": [
        "from pulp import *"
      ],
      "execution_count": null,
      "outputs": []
    },
    {
      "cell_type": "code",
      "metadata": {
        "colab": {
          "base_uri": "https://localhost:8080/"
        },
        "id": "1kFc4YkPZJvM",
        "outputId": "800aa40d-cd31-4743-e057-6ebd118d3e32"
      },
      "source": [
        "my_lp_problem = LpProblem(\"My LP Problem\", LpMinimize)"
      ],
      "execution_count": null,
      "outputs": [
        {
          "output_type": "stream",
          "text": [
            "/usr/local/lib/python3.7/dist-packages/pulp/pulp.py:1316: UserWarning: Spaces are not permitted in the name. Converted to '_'\n",
            "  warnings.warn(\"Spaces are not permitted in the name. Converted to '_'\")\n"
          ],
          "name": "stderr"
        }
      ]
    },
    {
      "cell_type": "code",
      "metadata": {
        "id": "NNaTEXoRZQOx"
      },
      "source": [
        "x1 = LpVariable('x1', lowBound=0, cat='Continuous')\n",
        "x2 = LpVariable('x2', lowBound=0, cat='Continuous')"
      ],
      "execution_count": null,
      "outputs": []
    },
    {
      "cell_type": "code",
      "metadata": {
        "colab": {
          "base_uri": "https://localhost:8080/"
        },
        "id": "jjECjFx8apkH",
        "outputId": "7c8c8333-d234-4ee5-f1e7-e663e8e7ae54"
      },
      "source": [
        "#Objective function\n",
        "my_lp_problem += 20 * x1 + 10 * x2 , \"Z\"\n",
        "\n",
        "#Constraints\n",
        "my_lp_problem += x1 + 2 * x2 == 40\n",
        "my_lp_problem += 3 * x1 +  x2 == 30\n",
        "my_lp_problem += 4 * x1 + 3 * x2 == 60"
      ],
      "execution_count": 22,
      "outputs": [
        {
          "output_type": "stream",
          "text": [
            "/usr/local/lib/python3.7/dist-packages/pulp/pulp.py:1671: UserWarning: Overwriting previously set objective.\n",
            "  warnings.warn(\"Overwriting previously set objective.\")\n"
          ],
          "name": "stderr"
        }
      ]
    },
    {
      "cell_type": "code",
      "metadata": {
        "colab": {
          "base_uri": "https://localhost:8080/"
        },
        "id": "Tb38dpUBauKX",
        "outputId": "28a6f44a-5f25-4be0-bd05-61bd14033cd6"
      },
      "source": [
        "my_lp_problem"
      ],
      "execution_count": 23,
      "outputs": [
        {
          "output_type": "execute_result",
          "data": {
            "text/plain": [
              "My_LP_Problem:\n",
              "MINIMIZE\n",
              "20*x1 + 10*x2 + 0\n",
              "SUBJECT TO\n",
              "_C1: x1 + 2 x2 = 40\n",
              "\n",
              "_C2: 3 x1 + x2 = 30\n",
              "\n",
              "_C3: 4 x1 + 3 x2 = 60\n",
              "\n",
              "_C4: x1 + 2 x2 <= 40\n",
              "\n",
              "_C5: 3 x1 + x2 >= 30\n",
              "\n",
              "_C6: 4 x1 + 3 x2 >= 60\n",
              "\n",
              "_C7: x1 + 2 x2 <= 40\n",
              "\n",
              "_C8: 3 x1 + x2 >= 30\n",
              "\n",
              "_C9: 4 x1 + 3 x2 >= 60\n",
              "\n",
              "_C10: x1 + 2 x2 = 40\n",
              "\n",
              "_C11: 3 x1 + x2 = 30\n",
              "\n",
              "_C12: 4 x1 + 3 x2 = 60\n",
              "\n",
              "_C13: x1 + 2 x2 = 40\n",
              "\n",
              "_C14: 3 x1 + x2 = 30\n",
              "\n",
              "_C15: 4 x1 + 3 x2 = 60\n",
              "\n",
              "VARIABLES\n",
              "x1 Continuous\n",
              "x2 Continuous"
            ]
          },
          "metadata": {},
          "execution_count": 23
        }
      ]
    },
    {
      "cell_type": "code",
      "metadata": {
        "colab": {
          "base_uri": "https://localhost:8080/",
          "height": 35
        },
        "id": "1TjrOLddZ1KB",
        "outputId": "44615361-9894-4984-9ca5-e79bd6e578e9"
      },
      "source": [
        "my_lp_problem.solve()\n",
        "LpStatus[my_lp_problem.status]"
      ],
      "execution_count": 24,
      "outputs": [
        {
          "output_type": "execute_result",
          "data": {
            "application/vnd.google.colaboratory.intrinsic+json": {
              "type": "string"
            },
            "text/plain": [
              "'Infeasible'"
            ]
          },
          "metadata": {},
          "execution_count": 24
        }
      ]
    },
    {
      "cell_type": "code",
      "metadata": {
        "colab": {
          "base_uri": "https://localhost:8080/"
        },
        "id": "sYnbLMMiZ2xL",
        "outputId": "6dc81c28-7f7e-4a68-fc2f-574b0a8403d7"
      },
      "source": [
        "for variable in my_lp_problem.variables():\n",
        "  print (\"{} = {}\".format(variable.name, variable.varValue))"
      ],
      "execution_count": 25,
      "outputs": [
        {
          "output_type": "stream",
          "text": [
            "x1 = 4.0\n",
            "x2 = 18.0\n"
          ],
          "name": "stdout"
        }
      ]
    },
    {
      "cell_type": "code",
      "metadata": {
        "colab": {
          "base_uri": "https://localhost:8080/"
        },
        "id": "W9eLs_cmZ4Zh",
        "outputId": "62345dee-5271-4d76-a5fd-15aea6ab38df"
      },
      "source": [
        "value(my_lp_problem.objective)"
      ],
      "execution_count": 26,
      "outputs": [
        {
          "output_type": "execute_result",
          "data": {
            "text/plain": [
              "260.0"
            ]
          },
          "metadata": {},
          "execution_count": 26
        }
      ]
    }
  ]
}