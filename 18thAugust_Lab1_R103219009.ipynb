{
  "nbformat": 4,
  "nbformat_minor": 0,
  "metadata": {
    "colab": {
      "name": "OR_Lab1.ipynb",
      "provenance": [],
      "include_colab_link": true
    },
    "kernelspec": {
      "name": "python3",
      "display_name": "Python 3"
    },
    "language_info": {
      "name": "python"
    }
  },
  "cells": [
    {
      "cell_type": "markdown",
      "metadata": {
        "id": "view-in-github",
        "colab_type": "text"
      },
      "source": [
        "<a href=\"https://colab.research.google.com/github/K-tyagi/OR-lab/blob/main/18thAugust_Lab2%2C3_R103219009.ipynb\" target=\"_parent\"><img src=\"https://colab.research.google.com/assets/colab-badge.svg\" alt=\"Open In Colab\"/></a>"
      ]
    },
    {
      "cell_type": "markdown",
      "metadata": {
        "id": "s_lkJFHNYbin"
      },
      "source": [
        "**TITLE: Introduction to IBM iLog(CPLEX) Optimization Studio**"
      ]
    },
    {
      "cell_type": "code",
      "metadata": {
        "id": "OX5f9hnhXezn"
      },
      "source": [
        "from scipy.optimize import linprog"
      ],
      "execution_count": 1,
      "outputs": []
    },
    {
      "cell_type": "code",
      "metadata": {
        "id": "9CKPKg5nXpV-"
      },
      "source": [
        "ob = [1, 1]"
      ],
      "execution_count": 2,
      "outputs": []
    },
    {
      "cell_type": "code",
      "metadata": {
        "id": "e-NDLK2TXrPp"
      },
      "source": [
        "a = [[ 1,  2],[2,  1]]\n",
        "b = [6, 6]"
      ],
      "execution_count": 3,
      "outputs": []
    },
    {
      "cell_type": "code",
      "metadata": {
        "id": "tStgJeGfXsxP"
      },
      "source": [
        "bnd = [(0, float(\"inf\")), (0, float(\"inf\"))]  "
      ],
      "execution_count": 4,
      "outputs": []
    },
    {
      "cell_type": "code",
      "metadata": {
        "id": "BDhv1Wx9Xuao"
      },
      "source": [
        "opt = linprog(c=ob, A_ub=a, b_ub=b,\n",
        "           bounds=bnd,\n",
        "            method=\"revised simplex\")"
      ],
      "execution_count": 5,
      "outputs": []
    },
    {
      "cell_type": "code",
      "metadata": {
        "colab": {
          "base_uri": "https://localhost:8080/"
        },
        "id": "hFw51zw_X1Er",
        "outputId": "5127a0c4-495f-432e-d22f-e948fd6536ac"
      },
      "source": [
        "opt"
      ],
      "execution_count": 6,
      "outputs": [
        {
          "output_type": "execute_result",
          "data": {
            "text/plain": [
              "     con: array([], dtype=float64)\n",
              "     fun: 0.0\n",
              " message: 'Optimization terminated successfully.'\n",
              "     nit: 0\n",
              "   slack: array([6., 6.])\n",
              "  status: 0\n",
              " success: True\n",
              "       x: array([0., 0.])"
            ]
          },
          "metadata": {},
          "execution_count": 6
        }
      ]
    }
  ]
}
