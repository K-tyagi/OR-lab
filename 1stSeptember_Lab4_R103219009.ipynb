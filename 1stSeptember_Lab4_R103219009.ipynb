{
  "nbformat": 4,
  "nbformat_minor": 0,
  "metadata": {
    "colab": {
      "name": "1stSeptember_Lab4_R103219009.ipynb",
      "provenance": [],
      "collapsed_sections": [],
      "include_colab_link": true
    },
    "kernelspec": {
      "name": "python3",
      "display_name": "Python 3"
    },
    "language_info": {
      "name": "python"
    }
  },
  "cells": [
    {
      "cell_type": "markdown",
      "metadata": {
        "id": "view-in-github",
        "colab_type": "text"
      },
      "source": [
        "<a href=\"https://colab.research.google.com/github/K-tyagi/OR-lab/blob/main/1stSeptember_Lab4_R103219009.ipynb\" target=\"_parent\"><img src=\"https://colab.research.google.com/assets/colab-badge.svg\" alt=\"Open In Colab\"/></a>"
      ]
    },
    {
      "cell_type": "markdown",
      "metadata": {
        "id": "x3q2utmO1qSI"
      },
      "source": [
        "**TITLE: Integer Programming Problem(IPP)**"
      ]
    },
    {
      "cell_type": "markdown",
      "metadata": {
        "id": "iafBSql_b4Pq"
      },
      "source": [
        "Q1. Max Z = 7x1 + 10x2\n",
        "    Constraints = -x1 + 3x2 <= 6\n",
        "                = 7x1 + x2 <= 35\n",
        "                = x1, x2 >= 0 and integer"
      ]
    },
    {
      "cell_type": "code",
      "metadata": {
        "colab": {
          "base_uri": "https://localhost:8080/"
        },
        "id": "jkYDiHtCWN2Y",
        "outputId": "18c01e33-6079-47ec-a5c6-ed3b9dd9e211"
      },
      "source": [
        "import cvxpy as cp\n",
        "x1 = cp.Variable()\n",
        "x2 = cp.Variable()\n",
        "obj = cp.Maximize( 7*x1 + 10*x2 )\n",
        "constraints = [ -1*x1 + 3*x2 <= 6 , 7*x1 + x2 <= 35]\n",
        "prob = cp.Problem(obj,constraints)\n",
        "prob.solve()"
      ],
      "execution_count": 7,
      "outputs": [
        {
          "output_type": "execute_result",
          "data": {
            "text/plain": [
              "66.49999997691361"
            ]
          },
          "metadata": {},
          "execution_count": 7
        }
      ]
    },
    {
      "cell_type": "markdown",
      "metadata": {
        "id": "U4swBBsubzyh"
      },
      "source": [
        "Q2. Max Z = 5x1 + 8x2\n",
        "    Constraints = x1 + x2 <= 6\n",
        "                = 5x1 + 9x2 <= 45\n",
        "                = x1, x2 >= 0 and integer"
      ]
    },
    {
      "cell_type": "code",
      "metadata": {
        "colab": {
          "base_uri": "https://localhost:8080/"
        },
        "id": "BPi_oYlmbVab",
        "outputId": "6fe10345-7512-4b9d-a2c4-700bd2e1e0b5"
      },
      "source": [
        "x1 = cp.Variable()\n",
        "x2 = cp.Variable()\n",
        "obj = cp.Maximize( 5*x1 + 8*x2 )\n",
        "constraints = [ 1*x1 + 1*x2 <= 6 , 5*x1 + 9*x2 <= 45]\n",
        "prob = cp.Problem(obj,constraints)\n",
        "prob.solve()"
      ],
      "execution_count": 8,
      "outputs": [
        {
          "output_type": "execute_result",
          "data": {
            "text/plain": [
              "41.25000000018229"
            ]
          },
          "metadata": {},
          "execution_count": 8
        }
      ]
    },
    {
      "cell_type": "markdown",
      "metadata": {
        "id": "DauAYRSUdO9D"
      },
      "source": [
        "Q3.\tA machine is used to produce two interchangeable products. The daily capacity of the\n",
        "machine can produce at most 20 units of product 1 and 10 units of product 2. Alternatively,\n",
        "       the machine can be adjusted to produce at most 12 units of product 1 and 25\n",
        "       units of product 2 daily. Market analysis shows that the maximum daily demand for the\n",
        "       two products combined is 35 units. Given that the unit profits for the two respective\n",
        "       products are $10 and $12, which of the two machine settings should be selected? \n",
        "       Formulate the problem as an IPP and find the optimum.\n"
      ]
    },
    {
      "cell_type": "code",
      "metadata": {
        "colab": {
          "base_uri": "https://localhost:8080/"
        },
        "id": "0CGTijkzdZGJ",
        "outputId": "e1cad46e-8a10-4f03-94b9-1e2d625d698f"
      },
      "source": [
        "x1 = cp.Variable(integer=True)\n",
        "x2 = cp.Variable(integer=True)\n",
        "\n",
        "constraints = [x1 + x2 <= 35,\n",
        "               25*x1-12*x2 <= 0,\n",
        "               12*x1-10*x2 <= 0,\n",
        "               x1>=0,\n",
        "               x2>=0]\n",
        "\n",
        "obj = cp.Maximize((10*x1)+(12*x2))\n",
        "\n",
        "prob = cp.Problem(obj, constraints)\n",
        "prob.solve()\n",
        "\n",
        "print(\"Value of x1:\", x1.value)\n",
        "print(\"Value of x2:\", x2.value)\n",
        "print(\"Value of obj:\",prob.value)"
      ],
      "execution_count": 6,
      "outputs": [
        {
          "output_type": "stream",
          "name": "stdout",
          "text": [
            "Value of x1: 0.0\n",
            "Value of x2: 35.0\n",
            "Value of obj: 420.0\n"
          ]
        }
      ]
    }
  ]
}