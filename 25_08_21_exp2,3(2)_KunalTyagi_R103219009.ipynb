{
  "nbformat": 4,
  "nbformat_minor": 0,
  "metadata": {
    "colab": {
      "name": "25/08/21_exp2,3(2)_KunalTyagi_R103219009.ipynb",
      "provenance": [],
      "collapsed_sections": [],
      "authorship_tag": "ABX9TyMBSSwUW5ecYq5X7sC8ZdsK",
      "include_colab_link": true
    },
    "kernelspec": {
      "name": "python3",
      "display_name": "Python 3"
    },
    "language_info": {
      "name": "python"
    }
  },
  "cells": [
    {
      "cell_type": "markdown",
      "metadata": {
        "id": "view-in-github",
        "colab_type": "text"
      },
      "source": [
        "<a href=\"https://colab.research.google.com/github/K-tyagi/OR-lab/blob/main/25_08_21_exp2%2C3(2)_KunalTyagi_R103219009.ipynb\" target=\"_parent\"><img src=\"https://colab.research.google.com/assets/colab-badge.svg\" alt=\"Open In Colab\"/></a>"
      ]
    },
    {
      "cell_type": "markdown",
      "metadata": {
        "id": "dNmd_2WkYDen"
      },
      "source": [
        "Q6 Maximize Z = X1 +  X2 + 3X3"
      ]
    },
    {
      "cell_type": "code",
      "metadata": {
        "id": "iW60I6iKScTr"
      },
      "source": [
        "\n",
        "%%capture\n",
        "!pip install pulp"
      ],
      "execution_count": null,
      "outputs": []
    },
    {
      "cell_type": "code",
      "metadata": {
        "id": "pIyL-QnmSdfg"
      },
      "source": [
        "from pulp import *"
      ],
      "execution_count": null,
      "outputs": []
    },
    {
      "cell_type": "code",
      "metadata": {
        "colab": {
          "base_uri": "https://localhost:8080/"
        },
        "id": "z0Y3mPNRSfXU",
        "outputId": "9f5d0a98-d6a0-436e-ff37-87c2c52864d8"
      },
      "source": [
        "my_lp_problem = LpProblem(\"My LP Problem\", LpMaximize)"
      ],
      "execution_count": null,
      "outputs": [
        {
          "output_type": "stream",
          "text": [
            "/usr/local/lib/python3.7/dist-packages/pulp/pulp.py:1316: UserWarning: Spaces are not permitted in the name. Converted to '_'\n",
            "  warnings.warn(\"Spaces are not permitted in the name. Converted to '_'\")\n"
          ],
          "name": "stderr"
        }
      ]
    },
    {
      "cell_type": "code",
      "metadata": {
        "id": "Pa0H2SamShBd"
      },
      "source": [
        "x1 = LpVariable('x1', lowBound=0, cat='Continuous')\n",
        "x2 = LpVariable('x2', lowBound=0, cat='Continuous')\n",
        "x3 = LpVariable('x3', lowBound=0, cat='Continuous')"
      ],
      "execution_count": null,
      "outputs": []
    },
    {
      "cell_type": "code",
      "metadata": {
        "id": "dImYtch6S2Gg"
      },
      "source": [
        "#Objective function\n",
        "my_lp_problem += 1 * x1 + 1 * x2 + 3 * x3, \"Z\"\n",
        "\n",
        "#Constraints\n",
        "my_lp_problem += 3 * x1 + 2 * x2 + x3 == 300\n",
        "my_lp_problem += 2 * x1 + x2 + 2 * x3 == 200"
      ],
      "execution_count": null,
      "outputs": []
    },
    {
      "cell_type": "code",
      "metadata": {
        "colab": {
          "base_uri": "https://localhost:8080/"
        },
        "id": "7GkknKjUTCAf",
        "outputId": "54a3056b-8fe9-4147-e40d-65458bfd773b"
      },
      "source": [
        "my_lp_problem"
      ],
      "execution_count": null,
      "outputs": [
        {
          "output_type": "execute_result",
          "data": {
            "text/plain": [
              "My_LP_Problem:\n",
              "MAXIMIZE\n",
              "1*x1 + 1*x2 + 3*x3 + 0\n",
              "SUBJECT TO\n",
              "_C1: 3 x1 + 2 x2 + x3 = 300\n",
              "\n",
              "_C2: 2 x1 + x2 + 2 x3 = 200\n",
              "\n",
              "VARIABLES\n",
              "x1 Continuous\n",
              "x2 Continuous\n",
              "x3 Continuous"
            ]
          },
          "metadata": {},
          "execution_count": 6
        }
      ]
    },
    {
      "cell_type": "code",
      "metadata": {
        "colab": {
          "base_uri": "https://localhost:8080/",
          "height": 35
        },
        "id": "1eeT4vFdTEIs",
        "outputId": "387073a0-b748-4331-8437-671a14fe9c00"
      },
      "source": [
        "my_lp_problem.solve()\n",
        "LpStatus[my_lp_problem.status]"
      ],
      "execution_count": null,
      "outputs": [
        {
          "output_type": "execute_result",
          "data": {
            "application/vnd.google.colaboratory.intrinsic+json": {
              "type": "string"
            },
            "text/plain": [
              "'Optimal'"
            ]
          },
          "metadata": {},
          "execution_count": 7
        }
      ]
    },
    {
      "cell_type": "code",
      "metadata": {
        "colab": {
          "base_uri": "https://localhost:8080/"
        },
        "id": "ZZIR_5XVTG_F",
        "outputId": "42597f93-50a5-4f72-bcc1-a9f77601348d"
      },
      "source": [
        "for variable in my_lp_problem.variables():\n",
        "  print (\"{} = {}\".format(variable.name, variable.varValue))"
      ],
      "execution_count": null,
      "outputs": [
        {
          "output_type": "stream",
          "text": [
            "x1 = 0.0\n",
            "x2 = 133.33333\n",
            "x3 = 33.333333\n"
          ],
          "name": "stdout"
        }
      ]
    },
    {
      "cell_type": "code",
      "metadata": {
        "colab": {
          "base_uri": "https://localhost:8080/"
        },
        "id": "vdG238tXTI2J",
        "outputId": "f2ae9b3d-f3a0-497c-c0c1-b2b1a19054c2"
      },
      "source": [
        "value(my_lp_problem.objective)"
      ],
      "execution_count": null,
      "outputs": [
        {
          "output_type": "execute_result",
          "data": {
            "text/plain": [
              "233.333329"
            ]
          },
          "metadata": {},
          "execution_count": 9
        }
      ]
    }
  ]
}