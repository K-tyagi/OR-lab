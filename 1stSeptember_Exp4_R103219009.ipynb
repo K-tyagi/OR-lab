{
  "nbformat": 4,
  "nbformat_minor": 0,
  "metadata": {
    "colab": {
      "name": "1stSeptember_Exp4_R103219009.ipynb",
      "provenance": [],
      "collapsed_sections": [],
      "include_colab_link": true
    },
    "kernelspec": {
      "name": "python3",
      "display_name": "Python 3"
    },
    "language_info": {
      "name": "python"
    }
  },
  "cells": [
    {
      "cell_type": "markdown",
      "metadata": {
        "id": "view-in-github",
        "colab_type": "text"
      },
      "source": [
        "<a href=\"https://colab.research.google.com/github/K-tyagi/OR-lab/blob/main/1stSeptember_Exp4_R103219009.ipynb\" target=\"_parent\"><img src=\"https://colab.research.google.com/assets/colab-badge.svg\" alt=\"Open In Colab\"/></a>"
      ]
    },
    {
      "cell_type": "markdown",
      "metadata": {
        "id": "x3q2utmO1qSI"
      },
      "source": [
        "**TITLE: Integer Programming Problem(IPP)**"
      ]
    },
    {
      "cell_type": "markdown",
      "metadata": {
        "id": "iafBSql_b4Pq"
      },
      "source": [
        "Q1. Max Z = 7x1 + 10x2\n",
        "    Constraints = -x1 + 3x2 <= 6\n",
        "                = 7x1 + x2 <= 35\n",
        "                = x1, x2 >= 0 and integer"
      ]
    },
    {
      "cell_type": "code",
      "metadata": {
        "colab": {
          "base_uri": "https://localhost:8080/"
        },
        "id": "jkYDiHtCWN2Y",
        "outputId": "8726cb95-9aaf-4bd7-e5ff-e5405a8d1bc5"
      },
      "source": [
        "import cvxpy as cp\n",
        "x1 = cp.Variable()\n",
        "x2 = cp.Variable()\n",
        "objective = cp.Maximize( 7*x1 + 10*x2 )\n",
        "constraints = [ -1*x1 + 3*x2 <= 6 , 7*x1 + x2 <= 35]\n",
        "prob = cp.Problem(objective,constraints)\n",
        "prob.solve()"
      ],
      "execution_count": 1,
      "outputs": [
        {
          "output_type": "execute_result",
          "data": {
            "text/plain": [
              "66.49999997691361"
            ]
          },
          "metadata": {},
          "execution_count": 1
        }
      ]
    },
    {
      "cell_type": "markdown",
      "metadata": {
        "id": "U4swBBsubzyh"
      },
      "source": [
        "Q2. Max Z = 5x1 + 8x2\n",
        "    Constraints = x1 + x2 <= 6\n",
        "                = 5x1 + 9x2 <= 45\n",
        "                = x1, x2 >= 0 and integer"
      ]
    },
    {
      "cell_type": "code",
      "metadata": {
        "colab": {
          "base_uri": "https://localhost:8080/"
        },
        "id": "BPi_oYlmbVab",
        "outputId": "4b99fb1d-8a15-42c1-abbd-7a7fa7c27d9a"
      },
      "source": [
        "x1 = cp.Variable()\n",
        "x2 = cp.Variable()\n",
        "objective = cp.Maximize( 5*x1 + 8*x2 )\n",
        "constraints = [ 1*x1 + 1*x2 <= 6 , 5*x1 + 9*x2 <= 45]\n",
        "prob = cp.Problem(objective,constraints)\n",
        "prob.solve()"
      ],
      "execution_count": 2,
      "outputs": [
        {
          "output_type": "execute_result",
          "data": {
            "text/plain": [
              "41.25000000018229"
            ]
          },
          "metadata": {},
          "execution_count": 2
        }
      ]
    }
  ]
}